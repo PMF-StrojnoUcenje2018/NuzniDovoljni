{
 "cells": [
  {
   "cell_type": "markdown",
   "metadata": {},
   "source": [
    "# Evaluator+PrikazTop5Guess"
   ]
  },
  {
   "cell_type": "markdown",
   "metadata": {},
   "source": [
    "### Ovaj program je demonstracija Evaluatora, koristi se mreza koja je istrenirana na Logima iz poznatih 25 klasa.\n",
    "### Programu treba directory gdje se nalaze slike iz test skupa. Istrenirani Model. Tresholdi su pronadjeni preko Gridsearcha. Program ispisuje prvih 5 najbolji guesseva mreze, na nacin da ih poreda po broju proposala (i po prosjecnim vjerojatnostima)"
   ]
  },
  {
   "cell_type": "code",
   "execution_count": 1,
   "metadata": {
    "scrolled": false
   },
   "outputs": [
    {
     "name": "stderr",
     "output_type": "stream",
     "text": [
      "C:\\Users\\User\\Anaconda3\\lib\\site-packages\\h5py\\__init__.py:36: FutureWarning: Conversion of the second argument of issubdtype from `float` to `np.floating` is deprecated. In future, it will be treated as `np.float64 == np.dtype(float).type`.\n",
      "  from ._conv import register_converters as _register_converters\n"
     ]
    },
    {
     "name": "stdout",
     "output_type": "stream",
     "text": [
      "curses is not supported on this machine (please install/reinstall curses for an optimal experience)\n",
      "\n",
      "\n",
      "\n",
      "Starting with convnet. Fingers crossed\n",
      "\n",
      "WARNING:tensorflow:From C:\\Users\\User\\Anaconda3\\lib\\site-packages\\tflearn\\initializations.py:119: UniformUnitScaling.__init__ (from tensorflow.python.ops.init_ops) is deprecated and will be removed in a future version.\n",
      "Instructions for updating:\n",
      "Use tf.initializers.variance_scaling instead with distribution=uniform to get equivalent behavior.\n",
      "WARNING:tensorflow:From C:\\Users\\User\\Anaconda3\\lib\\site-packages\\tflearn\\objectives.py:66: calling reduce_sum (from tensorflow.python.ops.math_ops) with keep_dims is deprecated and will be removed in a future version.\n",
      "Instructions for updating:\n",
      "keep_dims is deprecated, use keepdims instead\n",
      "INFO:tensorflow:Restoring parameters from C:\\Users\\User\\Desktop\\KODOVI_MOZGALO\\FRANOV_EVALUATOR\\Dorian final\\DobarModel25klasa\\punocisci29-06_mriza_best9862\n",
      "Model Loaded\n"
     ]
    },
    {
     "name": "stderr",
     "output_type": "stream",
     "text": [
      "\r",
      "  0%|          | 0/36 [00:00<?, ?it/s]"
     ]
    },
    {
     "name": "stdout",
     "output_type": "stream",
     "text": [
      "\n",
      "\n",
      "slika 0 klasa Albertsons P-> 0.8167120433029007 regioni -> 17.0\n",
      "\n",
      "slika 0 klasa BJs P-> 0.9365114830434322 regioni -> 16.0\n",
      "\n",
      "slika 0 klasa Wegmans P-> 0.9495315253734589 regioni -> 2.0\n",
      "\n",
      "slika 0 klasa HEB P-> 0.9593714475631714 regioni -> 2.0\n",
      "\n",
      "slika 0 klasa Smiths P-> 0.9997538994340336 regioni -> 17.0\n",
      "\n"
     ]
    },
    {
     "name": "stderr",
     "output_type": "stream",
     "text": [
      "\r",
      "  3%|▎         | 1/36 [00:02<01:44,  2.98s/it]"
     ]
    },
    {
     "name": "stdout",
     "output_type": "stream",
     "text": [
      "\n",
      "\n",
      "slika 1 klasa WinCoFoods P-> 0.5345714998741945 regioni -> 6.0\n",
      "\n",
      "slika 1 klasa WholeFoodsMarket P-> 0.5850254694620768 regioni -> 3.0\n",
      "\n",
      "slika 1 klasa Publix P-> 0.9132416993379593 regioni -> 4.0\n",
      "\n",
      "slika 1 klasa Target P-> 0.9981098175048828 regioni -> 4.0\n",
      "\n",
      "slika 1 klasa Meijer P-> 0.9999067485332489 regioni -> 2.0\n",
      "\n"
     ]
    },
    {
     "name": "stderr",
     "output_type": "stream",
     "text": [
      "\r",
      "  6%|▌         | 2/36 [00:04<01:19,  2.34s/it]"
     ]
    },
    {
     "name": "stdout",
     "output_type": "stream",
     "text": [
      "\n",
      "\n",
      "slika 10 klasa CVSPharmacy P-> 0.5814010202884674 regioni -> 3.0\n",
      "\n",
      "slika 10 klasa Albertsons P-> 0.6615325937668483 regioni -> 15.0\n",
      "\n",
      "slika 10 klasa Frys P-> 0.9016492068767548 regioni -> 2.0\n",
      "\n",
      "slika 10 klasa HEB P-> 0.9994543194770813 regioni -> 2.0\n",
      "\n",
      "slika 10 klasa SamsClub P-> 0.9998949681009565 regioni -> 14.0\n",
      "\n"
     ]
    },
    {
     "name": "stderr",
     "output_type": "stream",
     "text": [
      "\r",
      "  8%|▊         | 3/36 [00:07<01:23,  2.54s/it]"
     ]
    },
    {
     "name": "stdout",
     "output_type": "stream",
     "text": [
      "\n",
      "\n",
      "slika 11 klasa WholeFoodsMarket P-> 0.7116513848304749 regioni -> 2.0\n",
      "\n",
      "slika 11 klasa KingSoopers P-> 0.7826234400272369 regioni -> 4.0\n",
      "\n",
      "slika 11 klasa HEB P-> 0.910888556923185 regioni -> 7.0\n",
      "\n",
      "slika 11 klasa ShopRite P-> 0.9621556003888448 regioni -> 3.0\n",
      "\n",
      "slika 11 klasa Walgreens P-> 0.9879689514636993 regioni -> 2.0\n",
      "\n"
     ]
    },
    {
     "name": "stderr",
     "output_type": "stream",
     "text": [
      "\r",
      " 11%|█         | 4/36 [00:10<01:27,  2.72s/it]"
     ]
    },
    {
     "name": "stdout",
     "output_type": "stream",
     "text": [
      "\n",
      "\n",
      "slika 12 klasa WinCoFoods P-> 0.6596939797428522 regioni -> 22.0\n",
      "\n",
      "slika 12 klasa FredMeyer P-> 0.7426439772049586 regioni -> 3.0\n",
      "\n",
      "slika 12 klasa BJs P-> 0.7856035530567169 regioni -> 2.0\n",
      "\n",
      "slika 12 klasa Target P-> 0.8008685111999512 regioni -> 3.0\n",
      "\n",
      "slika 12 klasa WholeFoodsMarket P-> 0.814919229883414 regioni -> 26.0\n",
      "\n"
     ]
    },
    {
     "name": "stderr",
     "output_type": "stream",
     "text": [
      "\r",
      " 14%|█▍        | 5/36 [00:14<01:28,  2.85s/it]"
     ]
    },
    {
     "name": "stdout",
     "output_type": "stream",
     "text": [
      "\n",
      "\n",
      "slika 13 klasa StopShop P-> 0.5641390150007994 regioni -> 23.0\n",
      "\n",
      "slika 13 klasa WinCoFoods P-> 0.6910591522852579 regioni -> 3.0\n",
      "\n",
      "slika 13 klasa SamsClub P-> 0.9140031814575196 regioni -> 5.0\n",
      "\n",
      "slika 13 klasa ShopRite P-> 0.97633438876697 regioni -> 14.0\n",
      "\n",
      "slika 13 klasa WholeFoodsMarket P-> 1.0 regioni -> 3.0\n",
      "\n"
     ]
    },
    {
     "name": "stderr",
     "output_type": "stream",
     "text": [
      "\r",
      " 17%|█▋        | 6/36 [00:17<01:25,  2.87s/it]"
     ]
    },
    {
     "name": "stdout",
     "output_type": "stream",
     "text": [
      "\n",
      "\n",
      "slika 14 klasa StopShop P-> 0.3783554956316948 regioni -> 4.0\n",
      "\n",
      "slika 14 klasa BJs P-> 0.49374763170878094 regioni -> 3.0\n",
      "\n",
      "slika 14 klasa HarrisTeeter P-> 0.5015842893885242 regioni -> 18.0\n",
      "\n",
      "slika 14 klasa Publix P-> 0.5850005179643631 regioni -> 5.0\n",
      "\n",
      "slika 14 klasa KingSoopers P-> 0.9109932146966457 regioni -> 12.0\n",
      "\n"
     ]
    },
    {
     "name": "stderr",
     "output_type": "stream",
     "text": [
      "\r",
      " 19%|█▉        | 7/36 [00:19<01:19,  2.74s/it]"
     ]
    },
    {
     "name": "stdout",
     "output_type": "stream",
     "text": [
      "\n",
      "\n",
      "slika 15 klasa ShopRite P-> 0.6001743376255035 regioni -> 2.0\n",
      "\n",
      "slika 15 klasa HarrisTeeter P-> 0.6348671913146973 regioni -> 2.0\n",
      "\n",
      "slika 15 klasa Publix P-> 0.6432550853571376 regioni -> 37.0\n",
      "\n",
      "slika 15 klasa Wegmans P-> 0.807047289609909 regioni -> 10.0\n",
      "\n",
      "slika 15 klasa Target P-> 0.9136464993158976 regioni -> 3.0\n",
      "\n"
     ]
    },
    {
     "name": "stderr",
     "output_type": "stream",
     "text": [
      "\r",
      " 22%|██▏       | 8/36 [00:22<01:17,  2.76s/it]"
     ]
    },
    {
     "name": "stdout",
     "output_type": "stream",
     "text": [
      "\n",
      "\n",
      "slika 16 klasa Safeway P-> 0.6627015471458435 regioni -> 3.0\n",
      "\n",
      "slika 16 klasa WinCoFoods P-> 0.67662113904953 regioni -> 4.0\n",
      "\n",
      "slika 16 klasa ShopRite P-> 0.9250051379203796 regioni -> 2.0\n",
      "\n",
      "slika 16 klasa KingSoopers P-> 0.9999830412864685 regioni -> 25.0\n",
      "\n",
      "slika 16 klasa WholeFoodsMarket P-> 1.0 regioni -> 5.0\n",
      "\n"
     ]
    },
    {
     "name": "stderr",
     "output_type": "stream",
     "text": [
      "\r",
      " 25%|██▌       | 9/36 [00:24<01:14,  2.75s/it]"
     ]
    },
    {
     "name": "stdout",
     "output_type": "stream",
     "text": [
      "\n",
      "\n",
      "slika 17 klasa StopShop P-> 0.51685980707407 regioni -> 2.0\n",
      "\n",
      "slika 17 klasa Publix P-> 0.5430141737063726 regioni -> 12.0\n",
      "\n",
      "slika 17 klasa FredMeyer P-> 0.7745164732138315 regioni -> 3.0\n",
      "\n",
      "slika 17 klasa Albertsons P-> 0.7937827507654825 regioni -> 3.0\n",
      "\n",
      "slika 17 klasa Costco P-> 0.8069952607154847 regioni -> 5.0\n",
      "\n"
     ]
    },
    {
     "name": "stderr",
     "output_type": "stream",
     "text": [
      "\r",
      " 28%|██▊       | 10/36 [00:26<01:08,  2.64s/it]"
     ]
    },
    {
     "name": "stdout",
     "output_type": "stream",
     "text": [
      "\n",
      "\n",
      "slika 18 klasa Smiths P-> 0.6236803531646729 regioni -> 2.0\n",
      "\n",
      "slika 18 klasa Publix P-> 0.6281950364510218 regioni -> 15.0\n",
      "\n",
      "slika 18 klasa WholeFoodsMarket P-> 0.638625705242157 regioni -> 5.0\n",
      "\n",
      "slika 18 klasa WinCoFoods P-> 0.7062390993038813 regioni -> 6.0\n",
      "\n",
      "slika 18 klasa Albertsons P-> 0.7970458077532905 regioni -> 14.0\n",
      "\n"
     ]
    },
    {
     "name": "stderr",
     "output_type": "stream",
     "text": [
      "\r",
      " 31%|███       | 11/36 [00:28<01:05,  2.60s/it]"
     ]
    },
    {
     "name": "stdout",
     "output_type": "stream",
     "text": [
      "\n",
      "\n",
      "slika 19 klasa Smiths P-> 0.863676393032074 regioni -> 5.0\n",
      "\n",
      "slika 19 klasa ShopRite P-> 0.8756076693534851 regioni -> 4.0\n",
      "\n",
      "slika 19 klasa Walgreens P-> 0.9358507394790649 regioni -> 3.0\n",
      "\n",
      "slika 19 klasa SamsClub P-> 0.991279411315918 regioni -> 5.0\n",
      "\n",
      "slika 19 klasa HEB P-> 0.9990338683128357 regioni -> 6.0\n",
      "\n"
     ]
    },
    {
     "name": "stderr",
     "output_type": "stream",
     "text": [
      "\r",
      " 33%|███▎      | 12/36 [00:31<01:03,  2.63s/it]"
     ]
    },
    {
     "name": "stdout",
     "output_type": "stream",
     "text": [
      "\n",
      "\n",
      "slika 2 klasa StopShop P-> 0.5936319187283516 regioni -> 10.0\n",
      "\n",
      "slika 2 klasa Albertsons P-> 0.6822182094821563 regioni -> 26.0\n",
      "\n",
      "slika 2 klasa WinCoFoods P-> 0.7655915949079726 regioni -> 9.0\n",
      "\n",
      "slika 2 klasa WholeFoodsMarket P-> 0.9252524214131491 regioni -> 35.0\n",
      "\n",
      "slika 2 klasa BJs P-> 0.9999768336613973 regioni -> 3.0\n",
      "\n"
     ]
    },
    {
     "name": "stderr",
     "output_type": "stream",
     "text": [
      "\r",
      " 36%|███▌      | 13/36 [00:33<01:00,  2.61s/it]"
     ]
    },
    {
     "name": "stdout",
     "output_type": "stream",
     "text": [
      "\n",
      "\n",
      "slika 20 klasa WinCoFoods P-> 0.4798748434374207 regioni -> 19.0\n",
      "\n",
      "slika 20 klasa StopShop P-> 0.5291688538023404 regioni -> 14.0\n",
      "\n",
      "slika 20 klasa HyVee P-> 0.5496826060116291 regioni -> 2.0\n",
      "\n",
      "slika 20 klasa FredMeyer P-> 0.7522661685943604 regioni -> 2.0\n",
      "\n",
      "slika 20 klasa Costco P-> 0.8179263807833195 regioni -> 6.0\n",
      "\n"
     ]
    },
    {
     "name": "stderr",
     "output_type": "stream",
     "text": [
      "\r",
      " 39%|███▉      | 14/36 [00:36<00:57,  2.61s/it]"
     ]
    },
    {
     "name": "stdout",
     "output_type": "stream",
     "text": [
      "\n",
      "\n",
      "slika 21 klasa Safeway P-> 0.7709390819072723 regioni -> 9.0\n",
      "\n",
      "slika 21 klasa Publix P-> 0.7962900400161743 regioni -> 9.0\n",
      "\n",
      "slika 21 klasa WholeFoodsMarket P-> 0.8295338600873947 regioni -> 16.0\n",
      "\n",
      "slika 21 klasa Target P-> 0.8439283967018127 regioni -> 2.0\n",
      "\n",
      "slika 21 klasa Smiths P-> 0.9063124401228768 regioni -> 7.0\n",
      "\n"
     ]
    },
    {
     "name": "stderr",
     "output_type": "stream",
     "text": [
      "\r",
      " 42%|████▏     | 15/36 [00:39<00:54,  2.61s/it]"
     ]
    },
    {
     "name": "stdout",
     "output_type": "stream",
     "text": [
      "\n",
      "\n",
      "slika 22 klasa WholeFoodsMarket P-> 0.7072131596505642 regioni -> 8.0\n",
      "\n",
      "slika 22 klasa Publix P-> 0.763302269909117 regioni -> 18.0\n",
      "\n",
      "slika 22 klasa Smiths P-> 0.7673681775728861 regioni -> 3.0\n",
      "\n",
      "slika 22 klasa Target P-> 0.7691494822502136 regioni -> 2.0\n",
      "\n",
      "slika 22 klasa CVSPharmacy P-> 0.8374915514141321 regioni -> 20.0\n",
      "\n"
     ]
    },
    {
     "name": "stderr",
     "output_type": "stream",
     "text": [
      "\r",
      " 44%|████▍     | 16/36 [00:41<00:51,  2.59s/it]"
     ]
    },
    {
     "name": "stdout",
     "output_type": "stream",
     "text": [
      "\n",
      "\n",
      "slika 23 klasa Publix P-> 0.6710867136716843 regioni -> 4.0\n",
      "\n",
      "slika 23 klasa WholeFoodsMarket P-> 0.6902744621038437 regioni -> 9.0\n",
      "\n",
      "slika 23 klasa WinCoFoods P-> 0.6972604816158613 regioni -> 6.0\n",
      "\n",
      "slika 23 klasa Albertsons P-> 0.7597909463303429 regioni -> 14.0\n",
      "\n",
      "slika 23 klasa Wegmans P-> 0.9403556982676188 regioni -> 3.0\n",
      "\n"
     ]
    },
    {
     "name": "stderr",
     "output_type": "stream",
     "text": [
      "\r",
      " 47%|████▋     | 17/36 [00:43<00:48,  2.55s/it]"
     ]
    },
    {
     "name": "stdout",
     "output_type": "stream",
     "text": [
      "\n",
      "\n",
      "slika 24 klasa StopShop P-> 0.11735004931688309 regioni -> 2.0\n",
      "\n",
      "slika 24 klasa WinCoFoods P-> 0.2727716341614723 regioni -> 2.0\n",
      "\n",
      "slika 24 klasa Walmart P-> 0.317896415080343 regioni -> 7.0\n",
      "\n",
      "slika 24 klasa Publix P-> 0.3464019025365512 regioni -> 6.0\n",
      "\n",
      "slika 24 klasa CVSPharmacy P-> 0.8003557523091634 regioni -> 3.0\n",
      "\n"
     ]
    },
    {
     "name": "stderr",
     "output_type": "stream",
     "text": [
      "\r",
      " 50%|█████     | 18/36 [00:44<00:44,  2.49s/it]"
     ]
    },
    {
     "name": "stdout",
     "output_type": "stream",
     "text": [
      "\n",
      "\n",
      "slika 25 klasa Frys P-> 0.82927139600118 regioni -> 3.0\n",
      "\n",
      "slika 25 klasa Albertsons P-> 0.832199938595295 regioni -> 35.0\n",
      "\n",
      "slika 25 klasa Wegmans P-> 0.9094825685024261 regioni -> 4.0\n",
      "\n",
      "slika 25 klasa HEB P-> 0.9621374368667602 regioni -> 5.0\n",
      "\n",
      "slika 25 klasa SamsClub P-> 0.9994420409202576 regioni -> 3.0\n",
      "\n"
     ]
    },
    {
     "name": "stderr",
     "output_type": "stream",
     "text": [
      "\r",
      " 53%|█████▎    | 19/36 [00:48<00:43,  2.54s/it]"
     ]
    },
    {
     "name": "stdout",
     "output_type": "stream",
     "text": [
      "\n",
      "\n",
      "slika 26 klasa KingSoopers P-> 0.8802550149460634 regioni -> 12.0\n",
      "\n",
      "slika 26 klasa HEB P-> 0.8846817674736182 regioni -> 24.0\n",
      "\n",
      "slika 26 klasa CVSPharmacy P-> 0.9343846405253691 regioni -> 17.0\n",
      "\n",
      "slika 26 klasa SamsClub P-> 0.979692898013375 regioni -> 11.0\n",
      "\n",
      "slika 26 klasa WinCoFoods P-> 0.9967171351114908 regioni -> 3.0\n",
      "\n"
     ]
    },
    {
     "name": "stderr",
     "output_type": "stream",
     "text": [
      "\r",
      " 56%|█████▌    | 20/36 [00:51<00:41,  2.59s/it]"
     ]
    },
    {
     "name": "stdout",
     "output_type": "stream",
     "text": [
      "\n",
      "\n",
      "slika 27 klasa Target P-> 0.6940274089574814 regioni -> 2.0\n",
      "\n",
      "slika 27 klasa WholeFoodsMarket P-> 0.7525012046098709 regioni -> 26.0\n",
      "\n",
      "slika 27 klasa HEB P-> 0.8112620264291763 regioni -> 4.0\n",
      "\n",
      "slika 27 klasa BJs P-> 0.9452850988933018 regioni -> 7.0\n",
      "\n",
      "slika 27 klasa FredMeyer P-> 0.9857974648475647 regioni -> 2.0\n",
      "\n"
     ]
    },
    {
     "name": "stderr",
     "output_type": "stream",
     "text": [
      "\r",
      " 58%|█████▊    | 21/36 [00:56<00:40,  2.69s/it]"
     ]
    },
    {
     "name": "stdout",
     "output_type": "stream",
     "text": [
      "\n",
      "\n",
      "slika 28 klasa Safeway P-> 0.6653736918591536 regioni -> 26.0\n",
      "\n",
      "slika 28 klasa ShopRite P-> 0.7718218624591827 regioni -> 10.0\n",
      "\n",
      "slika 28 klasa WholeFoodsMarket P-> 0.7763682305812836 regioni -> 2.0\n",
      "\n",
      "slika 28 klasa Walgreens P-> 0.7769299944241842 regioni -> 3.0\n",
      "\n",
      "slika 28 klasa SamsClub P-> 0.9114599194791582 regioni -> 9.0\n",
      "\n"
     ]
    },
    {
     "name": "stderr",
     "output_type": "stream",
     "text": [
      "\r",
      " 61%|██████    | 22/36 [01:00<00:38,  2.76s/it]"
     ]
    },
    {
     "name": "stdout",
     "output_type": "stream",
     "text": [
      "\n",
      "\n",
      "slika 29 klasa Albertsons P-> 0.6397884346936878 regioni -> 19.0\n",
      "\n",
      "slika 29 klasa Publix P-> 0.6477577247553401 regioni -> 9.0\n",
      "\n",
      "slika 29 klasa Wegmans P-> 0.7601844072341919 regioni -> 5.0\n",
      "\n",
      "slika 29 klasa WholeFoodsMarket P-> 0.7674113875802826 regioni -> 17.0\n",
      "\n",
      "slika 29 klasa Target P-> 0.9925681948661804 regioni -> 3.0\n",
      "\n"
     ]
    },
    {
     "name": "stderr",
     "output_type": "stream",
     "text": [
      "\r",
      " 64%|██████▍   | 23/36 [01:04<00:36,  2.81s/it]"
     ]
    },
    {
     "name": "stdout",
     "output_type": "stream",
     "text": [
      "\n",
      "\n",
      "slika 3 klasa Walmart P-> 0.5901694667916144 regioni -> 31.0\n",
      "\n",
      "slika 3 klasa Publix P-> 0.6013280476133028 regioni -> 6.0\n",
      "\n",
      "slika 3 klasa SamsClub P-> 0.7391957461833953 regioni -> 5.0\n",
      "\n",
      "slika 3 klasa ShopRite P-> 0.7855515082677206 regioni -> 3.0\n",
      "\n",
      "slika 3 klasa Smiths P-> 1.0 regioni -> 3.0\n",
      "\n"
     ]
    },
    {
     "name": "stderr",
     "output_type": "stream",
     "text": [
      "\r",
      " 67%|██████▋   | 24/36 [01:08<00:34,  2.84s/it]"
     ]
    },
    {
     "name": "stdout",
     "output_type": "stream",
     "text": [
      "\n",
      "\n",
      "slika 30 klasa Smiths P-> 0.5233454257249832 regioni -> 2.0\n",
      "\n",
      "slika 30 klasa Safeway P-> 0.5462619699537754 regioni -> 2.0\n",
      "\n",
      "slika 30 klasa Walmart P-> 0.5552050206396315 regioni -> 9.0\n",
      "\n",
      "slika 30 klasa ShopRite P-> 0.6579878032207489 regioni -> 2.0\n",
      "\n",
      "slika 30 klasa Publix P-> 0.7029437820116679 regioni -> 3.0\n",
      "\n"
     ]
    },
    {
     "name": "stderr",
     "output_type": "stream",
     "text": [
      "\r",
      " 69%|██████▉   | 25/36 [01:09<00:30,  2.79s/it]"
     ]
    },
    {
     "name": "stdout",
     "output_type": "stream",
     "text": [
      "\n",
      "\n",
      "slika 31 klasa Publix P-> 0.6381432542370425 regioni -> 18.0\n",
      "\n",
      "slika 31 klasa Albertsons P-> 0.6931728009994214 regioni -> 13.0\n",
      "\n",
      "slika 31 klasa HEB P-> 0.745933378736178 regioni -> 3.0\n",
      "\n",
      "slika 31 klasa Wegmans P-> 0.768088678518931 regioni -> 3.0\n",
      "\n",
      "slika 31 klasa Meijer P-> 0.9561986007860729 regioni -> 21.0\n",
      "\n"
     ]
    },
    {
     "name": "stderr",
     "output_type": "stream",
     "text": [
      "\r",
      " 72%|███████▏  | 26/36 [01:13<00:28,  2.82s/it]"
     ]
    },
    {
     "name": "stdout",
     "output_type": "stream",
     "text": [
      "\n",
      "\n",
      "slika 32 klasa Frys P-> 0.0 regioni -> 0.0\n",
      "\n",
      "slika 32 klasa Kroger P-> 0.10018711253291085 regioni -> 42.0\n",
      "\n",
      "slika 32 klasa Albertsons P-> 0.4345150987307231 regioni -> 3.0\n",
      "\n",
      "slika 32 klasa StopShop P-> 0.742741197347641 regioni -> 3.0\n",
      "\n",
      "slika 32 klasa HEB P-> 0.9756428599357605 regioni -> 2.0\n",
      "\n"
     ]
    },
    {
     "name": "stderr",
     "output_type": "stream",
     "text": [
      "\r",
      " 75%|███████▌  | 27/36 [01:14<00:24,  2.77s/it]"
     ]
    },
    {
     "name": "stdout",
     "output_type": "stream",
     "text": [
      "\n",
      "\n",
      "slika 33 klasa FredMeyer P-> 0.7491065561771393 regioni -> 3.0\n",
      "\n",
      "slika 33 klasa HarrisTeeter P-> 0.7545543213685354 regioni -> 6.0\n",
      "\n",
      "slika 33 klasa Albertsons P-> 0.7612281633747948 regioni -> 45.0\n",
      "\n",
      "slika 33 klasa Costco P-> 0.7715307008475065 regioni -> 4.0\n",
      "\n",
      "slika 33 klasa WholeFoodsMarket P-> 0.895900297164917 regioni -> 15.0\n",
      "\n"
     ]
    },
    {
     "name": "stderr",
     "output_type": "stream",
     "text": [
      "\r",
      " 78%|███████▊  | 28/36 [01:18<00:22,  2.80s/it]"
     ]
    },
    {
     "name": "stdout",
     "output_type": "stream",
     "text": [
      "\n",
      "\n",
      "slika 34 klasa BJs P-> 0.5224066227674484 regioni -> 2.0\n",
      "\n",
      "slika 34 klasa Albertsons P-> 0.5737958401441574 regioni -> 4.0\n",
      "\n",
      "slika 34 klasa KingSoopers P-> 0.5752564370632172 regioni -> 3.0\n",
      "\n",
      "slika 34 klasa CVSPharmacy P-> 0.7242927565461114 regioni -> 21.0\n",
      "\n",
      "slika 34 klasa WinCoFoods P-> 0.7898814976215363 regioni -> 14.0\n",
      "\n"
     ]
    },
    {
     "name": "stderr",
     "output_type": "stream",
     "text": [
      "\r",
      " 81%|████████  | 29/36 [01:20<00:19,  2.77s/it]"
     ]
    },
    {
     "name": "stdout",
     "output_type": "stream",
     "text": [
      "\n",
      "\n",
      "slika 35 klasa Albertsons P-> 0.8486792242952755 regioni -> 28.0\n",
      "\n",
      "slika 35 klasa BJs P-> 0.9395588437716166 regioni -> 3.0\n",
      "\n",
      "slika 35 klasa ShopRite P-> 0.9832818663368622 regioni -> 48.0\n",
      "\n",
      "slika 35 klasa KingSoopers P-> 0.9909868240356445 regioni -> 2.0\n",
      "\n",
      "slika 35 klasa HEB P-> 0.9996353983879089 regioni -> 4.0\n",
      "\n"
     ]
    },
    {
     "name": "stderr",
     "output_type": "stream",
     "text": [
      "\r",
      " 83%|████████▎ | 30/36 [01:23<00:16,  2.79s/it]"
     ]
    },
    {
     "name": "stdout",
     "output_type": "stream",
     "text": [
      "\n",
      "\n",
      "slika 4 klasa ShopRite P-> 0.9730388318620077 regioni -> 41.0\n",
      "\n",
      "slika 4 klasa Walgreens P-> 0.9988276958465576 regioni -> 3.0\n",
      "\n",
      "slika 4 klasa Costco P-> 0.9992099404335022 regioni -> 2.0\n",
      "\n",
      "slika 4 klasa BJs P-> 0.9998018443584442 regioni -> 2.0\n",
      "\n",
      "slika 4 klasa SamsClub P-> 0.9999994039535522 regioni -> 5.0\n",
      "\n"
     ]
    },
    {
     "name": "stderr",
     "output_type": "stream",
     "text": [
      "\r",
      " 86%|████████▌ | 31/36 [01:26<00:13,  2.80s/it]"
     ]
    },
    {
     "name": "stdout",
     "output_type": "stream",
     "text": [
      "\n",
      "\n",
      "slika 5 klasa Smiths P-> 0.7889029880364736 regioni -> 3.0\n",
      "\n",
      "slika 5 klasa Meijer P-> 0.8606695036093394 regioni -> 6.0\n",
      "\n",
      "slika 5 klasa BJs P-> 0.9249127209186554 regioni -> 2.0\n",
      "\n",
      "slika 5 klasa Walgreens P-> 0.9373163079413084 regioni -> 26.0\n",
      "\n",
      "slika 5 klasa Frys P-> 0.9406353433926901 regioni -> 3.0\n",
      "\n"
     ]
    },
    {
     "name": "stderr",
     "output_type": "stream",
     "text": [
      "\r",
      " 89%|████████▉ | 32/36 [01:30<00:11,  2.81s/it]"
     ]
    },
    {
     "name": "stdout",
     "output_type": "stream",
     "text": [
      "\n",
      "\n",
      "slika 6 klasa Publix P-> 0.7525497674942017 regioni -> 3.0\n",
      "\n",
      "slika 6 klasa BJs P-> 0.7725874185562134 regioni -> 2.0\n",
      "\n",
      "slika 6 klasa HarrisTeeter P-> 0.7911014089530165 regioni -> 11.0\n",
      "\n",
      "slika 6 klasa Albertsons P-> 0.8382583856582642 regioni -> 8.0\n",
      "\n",
      "slika 6 klasa Walmart P-> 0.848536342382431 regioni -> 2.0\n",
      "\n"
     ]
    },
    {
     "name": "stderr",
     "output_type": "stream",
     "text": [
      "\r",
      " 92%|█████████▏| 33/36 [01:31<00:08,  2.78s/it]"
     ]
    },
    {
     "name": "stdout",
     "output_type": "stream",
     "text": [
      "\n",
      "\n",
      "slika 7 klasa Safeway P-> 0.5946566876437929 regioni -> 9.0\n",
      "\n",
      "slika 7 klasa HarrisTeeter P-> 0.6471233665943146 regioni -> 7.0\n",
      "\n",
      "slika 7 klasa Walgreens P-> 0.9221398532390594 regioni -> 2.0\n",
      "\n",
      "slika 7 klasa Frys P-> 0.9950997680425644 regioni -> 4.0\n",
      "\n",
      "slika 7 klasa SamsClub P-> 0.9998875558376312 regioni -> 4.0\n",
      "\n"
     ]
    },
    {
     "name": "stderr",
     "output_type": "stream",
     "text": [
      "\r",
      " 94%|█████████▍| 34/36 [01:35<00:05,  2.80s/it]"
     ]
    },
    {
     "name": "stdout",
     "output_type": "stream",
     "text": [
      "\n",
      "\n",
      "slika 8 klasa CVSPharmacy P-> 0.6658904068171978 regioni -> 4.0\n",
      "\n",
      "slika 8 klasa Albertsons P-> 0.7113544394572576 regioni -> 3.0\n",
      "\n",
      "slika 8 klasa Walmart P-> 0.8084234800189734 regioni -> 8.0\n",
      "\n",
      "slika 8 klasa WholeFoodsMarket P-> 0.8556009382009506 regioni -> 4.0\n",
      "\n",
      "slika 8 klasa Safeway P-> 0.9559957012534142 regioni -> 16.0\n",
      "\n"
     ]
    },
    {
     "name": "stderr",
     "output_type": "stream",
     "text": [
      "\r",
      " 97%|█████████▋| 35/36 [01:36<00:02,  2.77s/it]"
     ]
    },
    {
     "name": "stdout",
     "output_type": "stream",
     "text": [
      "\n",
      "\n",
      "slika 9 klasa Wegmans P-> 0.4893400967121124 regioni -> 2.0\n",
      "\n",
      "slika 9 klasa Albertsons P-> 0.554072351505359 regioni -> 12.0\n",
      "\n",
      "slika 9 klasa Publix P-> 0.6844040509313345 regioni -> 8.0\n",
      "\n",
      "slika 9 klasa StopShop P-> 0.711525841483048 regioni -> 7.0\n",
      "\n",
      "slika 9 klasa Smiths P-> 0.9766857160462273 regioni -> 18.0\n",
      "\n"
     ]
    },
    {
     "name": "stderr",
     "output_type": "stream",
     "text": [
      "100%|██████████| 36/36 [01:38<00:00,  2.74s/it]\n"
     ]
    },
    {
     "name": "stdout",
     "output_type": "stream",
     "text": [
      "0: Smiths\n",
      "1: Target\n",
      "2: WholeFoodsMarket\n",
      "3: Smiths\n",
      "4: ShopRite\n",
      "5: Walgreens\n",
      "6: Other\n",
      "7: SamsClub\n",
      "8: Safeway\n",
      "9: Smiths\n",
      "10: SamsClub\n",
      "11: Other\n",
      "12: Other\n",
      "13: WholeFoodsMarket\n",
      "14: KingSoopers\n",
      "15: Other\n",
      "16: KingSoopers\n",
      "17: Other\n",
      "18: Other\n",
      "19: HEB\n",
      "20: Other\n",
      "21: Other\n",
      "22: Other\n",
      "23: Other\n",
      "24: Other\n",
      "25: SamsClub\n",
      "26: CVSPharmacy\n",
      "27: BJs\n",
      "28: SamsClub\n",
      "29: Target\n",
      "30: Other\n",
      "31: Meijer\n",
      "32: Other\n",
      "33: Albertsons\n",
      "34: Other\n",
      "35: ShopRite\n"
     ]
    }
   ],
   "source": [
    "from __future__ import division, print_function, absolute_import\n",
    "import tflearn \n",
    "from tflearn.layers.core import input_data, dropout, fully_connected\n",
    "from tflearn.layers.conv import conv_2d, max_pool_2d, avg_pool_2d\n",
    "from tflearn.layers.normalization import local_response_normalization\n",
    "from tflearn.layers.estimator import regression\n",
    "\n",
    "from tqdm import tqdm\n",
    "import os\n",
    "import json\n",
    "import numpy as np\n",
    "from random import shuffle\n",
    "import cv2 \n",
    "import shutil\n",
    "import csv\n",
    "import time\n",
    "import random\n",
    "\n",
    "\n",
    "TreshMax=90\n",
    "topk=5\n",
    "MODELNAME = \"punocisci29-06_mriza_best9862\"\n",
    "\n",
    "#direktoriji koji su bitni za rad programa\n",
    "SOURCEIMG = \"C:/Users/User/Desktop/KODOVI_MOZGALO/MacLearnImg/ResIMG/\"\n",
    "\n",
    "LR = 0.001\n",
    "IMGSIZE1 = 60\n",
    "IMGSIZE2 = 40\n",
    "\n",
    "#Get labels for our logos \n",
    "def getLabels():\n",
    "    with open('imgLabels.json') as f:\n",
    "        return json.load(f)\n",
    "\n",
    "#Loada keyeve\n",
    "def getMyKeys():\n",
    "    with open('claskey.json') as f:\n",
    "        return json.load(f)\n",
    "\n",
    "#loada omjere za klase tj koliko je puta selective search predložio groundtruth/ukupni broj prijedloga\n",
    "def getClassOmjer():\n",
    "    with open('omjerclass.json') as f:\n",
    "        return json.load(f)\n",
    "\n",
    "#proces data from given picture into\n",
    "def processTestData(img):\n",
    "    testData = []\n",
    "    \n",
    "    for props in os.listdir(SAVELOC + img+ \"/\"):\n",
    "        #print(cv2.imread(os.path.join(SAVELOC, props)))\n",
    "        cvimg = cv2.imread(os.path.join(SAVELOC + img+ \"/\", props), 0)\n",
    "        imgNum = props.split('.')[0]\n",
    "        #print (np.array(cvimg))\n",
    "        testData.append([np.array(cvimg), imgNum])\n",
    "    return testData\n",
    "\n",
    "\n",
    "if __name__ == \"__main__\":\n",
    "\n",
    "    labels = getLabels()   \n",
    "    myKeys = getMyKeys()   \n",
    "    tempRes = {}\n",
    "    #ovdje slazemo navedeni dictionary\n",
    "    for key in myKeys.keys():\n",
    "        tempRes.update({myKeys[key]: 0})\n",
    "\n",
    "    #malo optimizacije\n",
    "    cv2.setUseOptimized(True)\n",
    "    cv2.setNumThreads(8)\n",
    "    \n",
    "    #preloadanje training seta iz fiknsog filea. sadrži malo manje od pola milijona slika\n",
    "    print(\"\\n\\n\")\n",
    "    print(\"Starting with convnet. Fingers crossed\\n\")\n",
    "    #network = tflearn.input_data(shape=[None, IMGSIZE1, IMGSIZE2, 1], data_augmentation=img_aug, name ='input')\n",
    "    \n",
    "    network = input_data(shape=[None, IMGSIZE1, IMGSIZE2, 1], name='input')\n",
    "    network = conv_2d(network, 50, 5, activation='relu')\n",
    "    network = max_pool_2d(network, 2)\n",
    "    #Normalization purposed to speed up training process\n",
    "    network = local_response_normalization(network)\n",
    "    network = conv_2d(network, 50, 5, activation='relu')\n",
    "    network = avg_pool_2d(network, 2)\n",
    "    network = local_response_normalization(network)\n",
    "    network = conv_2d(network, 100, 5, activation='relu')\n",
    "    network = avg_pool_2d(network, 2)\n",
    "    #network = local_response_normalization(network)\n",
    "    \n",
    "    network = fully_connected(network, 1000, activation='relu')\n",
    "    network = fully_connected(network, 1000, activation='relu')\n",
    "    network = fully_connected(network, 200, activation='relu')\n",
    "    network = fully_connected(network, 25, activation='softmax')\n",
    "    network = regression(network, optimizer='adam', learning_rate=LR,\n",
    "                        loss='categorical_crossentropy', name='targets')\n",
    "\n",
    "    \n",
    "    model = tflearn.DNN(network, tensorboard_dir='log' + MODELNAME)\n",
    "\n",
    "    if os.path.exists(\"{}.meta\".format(MODELNAME)):\n",
    "        model.load(MODELNAME)\n",
    "        print(\"Model Loaded\")\n",
    "        \n",
    "    #testne slike bi trebale biti spremljene u odgovarajuci SOURCEIMG kako je navedeno gore u originalnom formatu.\n",
    "    testImages =  [img for img in os.listdir(SOURCEIMG)]\n",
    "    #u results spremamo zavrne podatke. broj slike : klasa kojoj je model odlucio da pripada.\n",
    "    results = {}\n",
    "    \n",
    "    Height=400\n",
    "    Width=220\n",
    "    lista=[]\n",
    "    temporaryResults = tempRes\n",
    "    indexslike=0\n",
    "    #prolazim po slikama\n",
    "    for img in tqdm(testImages): \n",
    "        \n",
    "        index = img.split('.')[0]\n",
    "        \n",
    "        intindex=int(index)\n",
    "        \n",
    "        for key in myKeys.keys(): \n",
    "            temporaryResults[myKeys[key]]=0\n",
    "        \n",
    "        try:\n",
    "            im = cv2.imread(SOURCEIMG +img)\n",
    "            im = cv2.resize(im, (Width, Height))\n",
    "            ss = cv2.ximgproc.segmentation.createSelectiveSearchSegmentation()\n",
    "            ss.setBaseImage(im)\n",
    "    \n",
    "            #ss.switchToSingleStrategy()\n",
    "            ss.switchToSelectiveSearchFast()\n",
    "            # run selective search segmentation on input image\n",
    "                \n",
    "            #funkcija vrati array sa koordinatama rectangleova [x1 y1 w h] w->sirina h->visina dakle x1 y1 x1+w y1+h so koord od recta\n",
    "            rects = ss.process()\n",
    "            threshold_rects=[]\n",
    "    \n",
    "            #cuva samo odredjene rectangle\n",
    "            for i,rect in enumerate(rects):\n",
    "                x, y, w, h = rect\n",
    "                \n",
    "                if (w>(2*h/3) and w*h<Height*Width/15 and w*h>Height*Width/250): \n",
    "                #if (w*h >= Height*Width/100):\n",
    "                    threshold_rects.append(rect)\n",
    "            \n",
    "            n_proposala=int(len(threshold_rects))\n",
    "            max_ind=np.zeros(shape=(n_proposala, 2))\n",
    "            sume = np.zeros(shape=(25, 2))\n",
    "            average = np.zeros(shape=(25, 1))\n",
    "            imOut = im.copy()\n",
    "            for i,rect in enumerate(threshold_rects):\n",
    "                x ,y, w, h = rect\n",
    "           \n",
    "                img_prop = imOut[y:y+h, x:x+w]\n",
    "                proposal = cv2.resize(img_prop,(IMGSIZE1, IMGSIZE2))\n",
    "                proposal = cv2.cvtColor(proposal, cv2.COLOR_BGR2GRAY)\n",
    "    \n",
    "                img_data=np.array(proposal)\n",
    "                orig = img_data\n",
    "                data = img_data.reshape(-1, IMGSIZE1, IMGSIZE2, 1)\n",
    "                model_out = model.predict(data)[0]\n",
    "                maximum=max(model_out)\n",
    "                myInd = str(np.where(model_out==maximum)[0][0])\n",
    "                max_ind[i][0]=maximum\n",
    "                max_ind[i][1]=myInd\n",
    "            \n",
    "                        \n",
    "            for i in range(0, n_proposala):\n",
    "                sume[int(max_ind[i][1])][0] = max_ind[i][0]+sume[int(max_ind[i][1])][0]\n",
    "                sume[int(max_ind[i][1])][1] = sume[int(max_ind[i][1])][1]+ 1\n",
    "            for i in range(0, 25):\n",
    "                if(sume[i][1] > 1):\n",
    "                   average[i][0]=np.divide(sume[i][0], sume[i][1])   \n",
    "                   \n",
    "            ind = np.argpartition(average[:,0], -topk)[-topk:]\n",
    "            ind = ind[average[ind,0].argsort()]\n",
    "            #ind[np.argsort(average[ind][0])]\n",
    "            #print(ind[0])\n",
    "            \n",
    "            print(\"\\n\")\n",
    "            for n in range(0,topk):\n",
    "                print(\"slika \" + str(intindex) + \" klasa \" + str(myKeys[str(ind[n])]) + \" P-> \" + str(average[ind[n]][0]) + \" regioni -> \" + str(sume[ind[n]][1]) + \"\\n\")\n",
    "            \n",
    "            maxi=0\n",
    "            maxTotKoef=0\n",
    "            for i in range (0,topk):\n",
    "                if sume[ind[i]][1]<=2:\n",
    "                        Pkoef=0\n",
    "                else:\n",
    "                    if average[ind[i]][0]>=0.99:\n",
    "                        Pkoef=(average[ind[i]][0]*1000)-900\n",
    "                    elif average[ind[i]][0]>=0.90:\n",
    "                        Pkoef=(average[ind[i]][0]*100)-10\n",
    "                    elif average[ind[i]][0]>=0.70:\n",
    "                        Pkoef=(average[ind[i]][0]*100)-20\n",
    "                    else:\n",
    "                        Pkoef=0\n",
    "                \n",
    "                TotKoef=Pkoef+sume[ind[i]][1]\n",
    "                \n",
    "                if TotKoef>maxTotKoef:\n",
    "                    maxTotKoef=TotKoef\n",
    "                    maxi=i\n",
    "      \n",
    "            if maxTotKoef>=TreshMax:\n",
    "                results.update({intindex : myKeys[str(ind[maxi])]})\n",
    "            else:\n",
    "                results.update({intindex : \"Other\"})  \n",
    "                 \n",
    "        except:\n",
    "            print(\"U exceptu\\n\")\n",
    "            results.update({intindex: \"Other\"})\n",
    "            indexslike = indexslike +1\n",
    "    '''\n",
    "    with open('resultsAverage.csv', 'w',newline='') as csv_file:\n",
    "        writer = csv.writer(csv_file)    \n",
    "        for key in sorted(results):\n",
    "            writer.writerow([results[key]])\n",
    "    '''\n",
    "    for key in sorted(results):\n",
    "        print (\"%s: %s\" % (key, results[key]))"
   ]
  }
 ],
 "metadata": {
  "kernelspec": {
   "display_name": "Python 3",
   "language": "python",
   "name": "python3"
  },
  "language_info": {
   "codemirror_mode": {
    "name": "ipython",
    "version": 3
   },
   "file_extension": ".py",
   "mimetype": "text/x-python",
   "name": "python",
   "nbconvert_exporter": "python",
   "pygments_lexer": "ipython3",
   "version": "3.6.4"
  }
 },
 "nbformat": 4,
 "nbformat_minor": 2
}
