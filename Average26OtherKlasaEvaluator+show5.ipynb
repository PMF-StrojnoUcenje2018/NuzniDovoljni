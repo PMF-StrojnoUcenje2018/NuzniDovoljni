
{
 "cells": [
  {
   "cell_type": "code",
   "execution_count": 1,
   "metadata": {
    "scrolled": false
   },
   "outputs": [
    {
     "name": "stderr",
     "output_type": "stream",
     "text": [
      "C:\\Users\\User\\Anaconda3\\lib\\site-packages\\h5py\\__init__.py:36: FutureWarning: Conversion of the second argument of issubdtype from `float` to `np.floating` is deprecated. In future, it will be treated as `np.float64 == np.dtype(float).type`.\n",
      "  from ._conv import register_converters as _register_converters\n"
     ]
    },
    {
     "name": "stdout",
     "output_type": "stream",
     "text": [
      "curses is not supported on this machine (please install/reinstall curses for an optimal experience)\n",
      "\n",
      "\n",
      "\n",
      "Starting with convnet. Fingers crossed\n",
      "\n",
      "WARNING:tensorflow:From C:\\Users\\User\\Anaconda3\\lib\\site-packages\\tflearn\\initializations.py:119: UniformUnitScaling.__init__ (from tensorflow.python.ops.init_ops) is deprecated and will be removed in a future version.\n",
      "Instructions for updating:\n",
      "Use tf.initializers.variance_scaling instead with distribution=uniform to get equivalent behavior.\n",
      "WARNING:tensorflow:From C:\\Users\\User\\Anaconda3\\lib\\site-packages\\tflearn\\objectives.py:66: calling reduce_sum (from tensorflow.python.ops.math_ops) with keep_dims is deprecated and will be removed in a future version.\n",
      "Instructions for updating:\n",
      "keep_dims is deprecated, use keepdims instead\n",
      "INFO:tensorflow:Restoring parameters from C:\\Users\\User\\Desktop\\KODOVI_MOZGALO\\FRANOV_EVALUATOR\\Dorian final\\DobarModel26klasaOther\\other30-06_mriza_best9807\n",
      "Model Loaded\n"
     ]
    },
    {
     "name": "stderr",
     "output_type": "stream",
     "text": [
      "\r",
      "  0%|          | 0/36 [00:00<?, ?it/s]"
     ]
    },
    {
     "name": "stdout",
     "output_type": "stream",
     "text": [
      "\n",
      "\n",
      "slika 0 klasa Wegmans P-> 0.5148023962974548 regioni -> 1.0\n",
      "\n",
      "slika 0 klasa WholeFoodsMarket P-> 0.7643510699272156 regioni -> 1.0\n",
      "\n",
      "slika 0 klasa StopShop P-> 0.7733670473098755 regioni -> 2.0\n",
      "\n",
      "slika 0 klasa Smiths P-> 0.9999170303344727 regioni -> 11.0\n",
      "\n",
      "slika 0 klasa Other P-> 0.9717889663420225 regioni -> 171.0\n",
      "\n"
     ]
    },
    {
     "name": "stderr",
     "output_type": "stream",
     "text": [
      "\r",
      "  3%|▎         | 1/36 [00:02<01:42,  2.91s/it]"
     ]
    },
    {
     "name": "stdout",
     "output_type": "stream",
     "text": [
      "\n",
      "\n",
      "slika 1 klasa StopShop P-> 0.0 regioni -> 0.0\n",
      "\n",
      "slika 1 klasa Walgreens P-> 0.0 regioni -> 0.0\n",
      "\n",
      "slika 1 klasa Frys P-> 0.0 regioni -> 0.0\n",
      "\n",
      "slika 1 klasa Target P-> 1.0 regioni -> 3.0\n",
      "\n",
      "slika 1 klasa Other P-> 0.9936635743326215 regioni -> 67.0\n",
      "\n"
     ]
    },
    {
     "name": "stderr",
     "output_type": "stream",
     "text": [
      "\r",
      "  6%|▌         | 2/36 [00:04<01:14,  2.18s/it]"
     ]
    },
    {
     "name": "stdout",
     "output_type": "stream",
     "text": [
      "\n",
      "\n",
      "slika 10 klasa StopShop P-> 0.9950107038021088 regioni -> 2.0\n",
      "\n",
      "slika 10 klasa BJs P-> 0.7590846717357635 regioni -> 3.0\n",
      "\n",
      "slika 10 klasa Walmart P-> 0.7352832853794098 regioni -> 4.0\n",
      "\n",
      "slika 10 klasa SamsClub P-> 0.9999992955814708 regioni -> 11.0\n",
      "\n",
      "slika 10 klasa Other P-> 0.9888314165216584 regioni -> 179.0\n",
      "\n"
     ]
    },
    {
     "name": "stderr",
     "output_type": "stream",
     "text": [
      "\r",
      "  8%|▊         | 3/36 [00:07<01:20,  2.45s/it]"
     ]
    },
    {
     "name": "stdout",
     "output_type": "stream",
     "text": [
      "\n",
      "\n",
      "slika 11 klasa ShopRite P-> 0.5244707465171814 regioni -> 1.0\n",
      "\n",
      "slika 11 klasa StopShop P-> 0.6278106570243835 regioni -> 1.0\n",
      "\n",
      "slika 11 klasa HyVee P-> 0.9645235538482666 regioni -> 1.0\n",
      "\n",
      "slika 11 klasa BJs P-> 0.9999943971633911 regioni -> 1.0\n",
      "\n",
      "slika 11 klasa Other P-> 0.9912913753455427 regioni -> 238.0\n",
      "\n"
     ]
    },
    {
     "name": "stderr",
     "output_type": "stream",
     "text": [
      "\r",
      " 11%|█         | 4/36 [00:10<01:26,  2.70s/it]"
     ]
    },
    {
     "name": "stdout",
     "output_type": "stream",
     "text": [
      "\n",
      "\n",
      "slika 12 klasa Publix P-> 0.6121896604696909 regioni -> 3.0\n",
      "\n",
      "slika 12 klasa Costco P-> 0.7485757768154144 regioni -> 3.0\n",
      "\n",
      "slika 12 klasa HyVee P-> 1.0 regioni -> 3.0\n",
      "\n",
      "slika 12 klasa Target P-> 0.9314361413319906 regioni -> 6.0\n",
      "\n",
      "slika 12 klasa Other P-> 0.9726669754551238 regioni -> 238.0\n",
      "\n"
     ]
    },
    {
     "name": "stderr",
     "output_type": "stream",
     "text": [
      "\r",
      " 14%|█▍        | 5/36 [00:15<01:34,  3.06s/it]"
     ]
    },
    {
     "name": "stdout",
     "output_type": "stream",
     "text": [
      "\n",
      "\n",
      "slika 13 klasa Publix P-> 0.9086865782737732 regioni -> 2.0\n",
      "\n",
      "slika 13 klasa StopShop P-> 0.9999969601631165 regioni -> 2.0\n",
      "\n",
      "slika 13 klasa WholeFoodsMarket P-> 0.8295801083246866 regioni -> 3.0\n",
      "\n",
      "slika 13 klasa HarrisTeeter P-> 0.9212207943201065 regioni -> 4.0\n",
      "\n",
      "slika 13 klasa Other P-> 0.9916550761315881 regioni -> 205.0\n",
      "\n"
     ]
    },
    {
     "name": "stderr",
     "output_type": "stream",
     "text": [
      "\r",
      " 17%|█▋        | 6/36 [00:18<01:32,  3.09s/it]"
     ]
    },
    {
     "name": "stdout",
     "output_type": "stream",
     "text": [
      "\n",
      "\n",
      "slika 14 klasa Albertsons P-> 0.0 regioni -> 0.0\n",
      "\n",
      "slika 14 klasa StopShop P-> 0.0 regioni -> 0.0\n",
      "\n",
      "slika 14 klasa Kroger P-> 0.5586252808570862 regioni -> 1.0\n",
      "\n",
      "slika 14 klasa KingSoopers P-> 0.993992269039154 regioni -> 8.0\n",
      "\n",
      "slika 14 klasa Other P-> 0.997300566227968 regioni -> 121.0\n",
      "\n"
     ]
    },
    {
     "name": "stderr",
     "output_type": "stream",
     "text": [
      "\r",
      " 19%|█▉        | 7/36 [00:20<01:25,  2.94s/it]"
     ]
    },
    {
     "name": "stdout",
     "output_type": "stream",
     "text": [
      "\n",
      "\n",
      "slika 15 klasa Frys P-> 0.0 regioni -> 0.0\n",
      "\n",
      "slika 15 klasa FredMeyer P-> 0.9623989462852478 regioni -> 1.0\n",
      "\n",
      "slika 15 klasa Target P-> 0.8901186287403107 regioni -> 2.0\n",
      "\n",
      "slika 15 klasa Publix P-> 0.8281932920217514 regioni -> 4.0\n",
      "\n",
      "slika 15 klasa Other P-> 0.987640713904537 regioni -> 177.0\n",
      "\n"
     ]
    },
    {
     "name": "stderr",
     "output_type": "stream",
     "text": [
      "\r",
      " 22%|██▏       | 8/36 [00:23<01:23,  2.97s/it]"
     ]
    },
    {
     "name": "stdout",
     "output_type": "stream",
     "text": [
      "\n",
      "\n",
      "slika 16 klasa Target P-> 0.0 regioni -> 0.0\n",
      "\n",
      "slika 16 klasa Walmart P-> 0.9825499057769775 regioni -> 1.0\n",
      "\n",
      "slika 16 klasa CVSPharmacy P-> 0.996575653553009 regioni -> 1.0\n",
      "\n",
      "slika 16 klasa KingSoopers P-> 0.9523031478342803 regioni -> 23.0\n",
      "\n",
      "slika 16 klasa Other P-> 0.9978208441803925 regioni -> 137.0\n",
      "\n"
     ]
    },
    {
     "name": "stderr",
     "output_type": "stream",
     "text": [
      "\r",
      " 25%|██▌       | 9/36 [00:26<01:18,  2.91s/it]"
     ]
    },
    {
     "name": "stdout",
     "output_type": "stream",
     "text": [
      "\n",
      "\n",
      "slika 17 klasa StopShop P-> 0.0 regioni -> 0.0\n",
      "\n",
      "slika 17 klasa Frys P-> 0.0 regioni -> 0.0\n",
      "\n",
      "slika 17 klasa Costco P-> 0.6146316677331924 regioni -> 2.0\n",
      "\n",
      "slika 17 klasa HyVee P-> 0.9820471107959747 regioni -> 2.0\n",
      "\n",
      "slika 17 klasa Other P-> 0.9849236086010933 regioni -> 80.0\n",
      "\n"
     ]
    },
    {
     "name": "stderr",
     "output_type": "stream",
     "text": [
      "\r",
      " 28%|██▊       | 10/36 [00:28<01:13,  2.81s/it]"
     ]
    },
    {
     "name": "stdout",
     "output_type": "stream",
     "text": [
      "\n",
      "\n",
      "slika 18 klasa Walmart P-> 0.3609236180782318 regioni -> 1.0\n",
      "\n",
      "slika 18 klasa Safeway P-> 0.453090101480484 regioni -> 1.0\n",
      "\n",
      "slika 18 klasa Target P-> 0.9728293418884277 regioni -> 1.0\n",
      "\n",
      "slika 18 klasa HarrisTeeter P-> 0.97296142578125 regioni -> 1.0\n",
      "\n",
      "slika 18 klasa Other P-> 0.9742006858954063 regioni -> 130.0\n",
      "\n"
     ]
    },
    {
     "name": "stderr",
     "output_type": "stream",
     "text": [
      "\r",
      " 31%|███       | 11/36 [00:30<01:09,  2.78s/it]"
     ]
    },
    {
     "name": "stdout",
     "output_type": "stream",
     "text": [
      "\n",
      "\n",
      "slika 19 klasa Walmart P-> 0.981570820013682 regioni -> 3.0\n",
      "\n",
      "slika 19 klasa SamsClub P-> 0.9019998610019684 regioni -> 4.0\n",
      "\n",
      "slika 19 klasa BJs P-> 0.928078850110372 regioni -> 6.0\n",
      "\n",
      "slika 19 klasa HEB P-> 0.9688275456428528 regioni -> 10.0\n",
      "\n",
      "slika 19 klasa Other P-> 0.9739341141378626 regioni -> 188.0\n",
      "\n"
     ]
    },
    {
     "name": "stderr",
     "output_type": "stream",
     "text": [
      "\r",
      " 33%|███▎      | 12/36 [00:33<01:06,  2.79s/it]"
     ]
    },
    {
     "name": "stdout",
     "output_type": "stream",
     "text": [
      "\n",
      "\n",
      "slika 2 klasa WinCoFoods P-> 0.8851167360941569 regioni -> 3.0\n",
      "\n",
      "slika 2 klasa Publix P-> 0.8969960659742355 regioni -> 4.0\n",
      "\n",
      "slika 2 klasa Walmart P-> 0.9573227592876979 regioni -> 7.0\n",
      "\n",
      "slika 2 klasa WholeFoodsMarket P-> 0.8888442797793282 regioni -> 18.0\n",
      "\n",
      "slika 2 klasa Other P-> 0.9891531851556566 regioni -> 135.0\n",
      "\n"
     ]
    },
    {
     "name": "stderr",
     "output_type": "stream",
     "text": [
      "\r",
      " 36%|███▌      | 13/36 [00:36<01:03,  2.77s/it]"
     ]
    },
    {
     "name": "stdout",
     "output_type": "stream",
     "text": [
      "\n",
      "\n",
      "slika 20 klasa Safeway P-> 0.9993802309036255 regioni -> 1.0\n",
      "\n",
      "slika 20 klasa StopShop P-> 0.7693763375282288 regioni -> 2.0\n",
      "\n",
      "slika 20 klasa HyVee P-> 0.991960863272349 regioni -> 6.0\n",
      "\n",
      "slika 20 klasa Publix P-> 0.8527925461530685 regioni -> 8.0\n",
      "\n",
      "slika 20 klasa Other P-> 0.9552730763850569 regioni -> 147.0\n",
      "\n"
     ]
    },
    {
     "name": "stderr",
     "output_type": "stream",
     "text": [
      "\r",
      " 39%|███▉      | 14/36 [00:38<01:00,  2.75s/it]"
     ]
    },
    {
     "name": "stdout",
     "output_type": "stream",
     "text": [
      "\n",
      "\n",
      "slika 21 klasa StopShop P-> 0.6536602973937988 regioni -> 2.0\n",
      "\n",
      "slika 21 klasa HyVee P-> 0.8306533098220825 regioni -> 2.0\n",
      "\n",
      "slika 21 klasa Costco P-> 0.48771875103314716 regioni -> 3.0\n",
      "\n",
      "slika 21 klasa Safeway P-> 0.8353701531887054 regioni -> 4.0\n",
      "\n",
      "slika 21 klasa Other P-> 0.9718999381576265 regioni -> 140.0\n",
      "\n"
     ]
    },
    {
     "name": "stderr",
     "output_type": "stream",
     "text": [
      "\r",
      " 42%|████▏     | 15/36 [00:40<00:57,  2.72s/it]"
     ]
    },
    {
     "name": "stdout",
     "output_type": "stream",
     "text": [
      "\n",
      "\n",
      "slika 22 klasa BJs P-> 0.8872807025909424 regioni -> 1.0\n",
      "\n",
      "slika 22 klasa Smiths P-> 0.9837234020233154 regioni -> 1.0\n",
      "\n",
      "slika 22 klasa Publix P-> 0.8920347094535828 regioni -> 2.0\n",
      "\n",
      "slika 22 klasa CVSPharmacy P-> 0.9664230830967426 regioni -> 16.0\n",
      "\n",
      "slika 22 klasa Other P-> 0.9840711264962881 regioni -> 142.0\n",
      "\n"
     ]
    },
    {
     "name": "stderr",
     "output_type": "stream",
     "text": [
      "\r",
      " 44%|████▍     | 16/36 [00:43<00:54,  2.72s/it]"
     ]
    },
    {
     "name": "stdout",
     "output_type": "stream",
     "text": [
      "\n",
      "\n",
      "slika 23 klasa WinCoFoods P-> 0.8727611899375916 regioni -> 1.0\n",
      "\n",
      "slika 23 klasa Smiths P-> 0.903578519821167 regioni -> 1.0\n",
      "\n",
      "slika 23 klasa Albertsons P-> 0.9999815225601196 regioni -> 1.0\n",
      "\n",
      "slika 23 klasa Costco P-> 0.7226283252239227 regioni -> 2.0\n",
      "\n",
      "slika 23 klasa Other P-> 0.9580856528910962 regioni -> 91.0\n",
      "\n"
     ]
    },
    {
     "name": "stderr",
     "output_type": "stream",
     "text": [
      "\r",
      " 47%|████▋     | 17/36 [00:45<00:50,  2.67s/it]"
     ]
    },
    {
     "name": "stdout",
     "output_type": "stream",
     "text": [
      "\n",
      "\n",
      "slika 24 klasa Albertsons P-> 0.0 regioni -> 0.0\n",
      "\n",
      "slika 24 klasa Smiths P-> 0.0 regioni -> 0.0\n",
      "\n",
      "slika 24 klasa CVSPharmacy P-> 0.9998236298561096 regioni -> 1.0\n",
      "\n",
      "slika 24 klasa Frys P-> 1.0 regioni -> 1.0\n",
      "\n",
      "slika 24 klasa Other P-> 0.9985433663640704 regioni -> 35.0\n",
      "\n"
     ]
    },
    {
     "name": "stderr",
     "output_type": "stream",
     "text": [
      "\r",
      " 50%|█████     | 18/36 [00:46<00:46,  2.58s/it]"
     ]
    },
    {
     "name": "stdout",
     "output_type": "stream",
     "text": [
      "\n",
      "\n",
      "slika 25 klasa Costco P-> 0.9688604474067688 regioni -> 3.0\n",
      "\n",
      "slika 25 klasa Smiths P-> 1.0 regioni -> 3.0\n",
      "\n",
      "slika 25 klasa CVSPharmacy P-> 0.9257254719734191 regioni -> 5.0\n",
      "\n",
      "slika 25 klasa Walmart P-> 0.726295616891649 regioni -> 9.0\n",
      "\n",
      "slika 25 klasa Other P-> 0.9687223456524037 regioni -> 162.0\n",
      "\n"
     ]
    },
    {
     "name": "stderr",
     "output_type": "stream",
     "text": [
      "\r",
      " 53%|█████▎    | 19/36 [00:49<00:44,  2.60s/it]"
     ]
    },
    {
     "name": "stdout",
     "output_type": "stream",
     "text": [
      "\n",
      "\n",
      "slika 26 klasa Target P-> 0.9998235106468201 regioni -> 1.0\n",
      "\n",
      "slika 26 klasa Walmart P-> 0.9987362921237946 regioni -> 2.0\n",
      "\n",
      "slika 26 klasa Costco P-> 0.8922133048375448 regioni -> 9.0\n",
      "\n",
      "slika 26 klasa CVSPharmacy P-> 0.9831213440213885 regioni -> 14.0\n",
      "\n",
      "slika 26 klasa Other P-> 0.9722552401194641 regioni -> 211.0\n",
      "\n"
     ]
    },
    {
     "name": "stderr",
     "output_type": "stream",
     "text": [
      "\r",
      " 56%|█████▌    | 20/36 [00:52<00:42,  2.63s/it]"
     ]
    },
    {
     "name": "stdout",
     "output_type": "stream",
     "text": [
      "\n",
      "\n",
      "slika 27 klasa BJs P-> 0.9736713469028473 regioni -> 2.0\n",
      "\n",
      "slika 27 klasa Walgreens P-> 0.9873100817203522 regioni -> 2.0\n",
      "\n",
      "slika 27 klasa Safeway P-> 0.9878824353218079 regioni -> 2.0\n",
      "\n",
      "slika 27 klasa Wegmans P-> 0.9889737367630005 regioni -> 2.0\n",
      "\n",
      "slika 27 klasa Other P-> 0.9705141809027074 regioni -> 295.0\n",
      "\n"
     ]
    },
    {
     "name": "stderr",
     "output_type": "stream",
     "text": [
      "\r",
      " 58%|█████▊    | 21/36 [00:56<00:40,  2.69s/it]"
     ]
    },
    {
     "name": "stdout",
     "output_type": "stream",
     "text": [
      "\n",
      "\n",
      "slika 28 klasa SamsClub P-> 0.9998285174369812 regioni -> 2.0\n",
      "\n",
      "slika 28 klasa Publix P-> 0.8287607908248902 regioni -> 5.0\n",
      "\n",
      "slika 28 klasa StopShop P-> 0.9279212454954783 regioni -> 6.0\n",
      "\n",
      "slika 28 klasa Safeway P-> 0.8622946318458108 regioni -> 17.0\n",
      "\n",
      "slika 28 klasa Other P-> 0.9835539716060715 regioni -> 297.0\n",
      "\n"
     ]
    },
    {
     "name": "stderr",
     "output_type": "stream",
     "text": [
      "\r",
      " 61%|██████    | 22/36 [01:00<00:38,  2.77s/it]"
     ]
    },
    {
     "name": "stdout",
     "output_type": "stream",
     "text": [
      "\n",
      "\n",
      "slika 29 klasa WholeFoodsMarket P-> 0.6721955090761185 regioni -> 2.0\n",
      "\n",
      "slika 29 klasa Costco P-> 0.9194060564041138 regioni -> 2.0\n",
      "\n",
      "slika 29 klasa HyVee P-> 0.8574017286300659 regioni -> 3.0\n",
      "\n",
      "slika 29 klasa Walmart P-> 0.6979318906863531 regioni -> 6.0\n",
      "\n",
      "slika 29 klasa Other P-> 0.9717819841651173 regioni -> 231.0\n",
      "\n"
     ]
    },
    {
     "name": "stderr",
     "output_type": "stream",
     "text": [
      "\r",
      " 64%|██████▍   | 23/36 [01:04<00:36,  2.80s/it]"
     ]
    },
    {
     "name": "stdout",
     "output_type": "stream",
     "text": [
      "\n",
      "\n",
      "slika 3 klasa Albertsons P-> 0.0 regioni -> 0.0\n",
      "\n",
      "slika 3 klasa Frys P-> 0.0 regioni -> 0.0\n",
      "\n",
      "slika 3 klasa HarrisTeeter P-> 0.8843629360198975 regioni -> 2.0\n",
      "\n",
      "slika 3 klasa Smiths P-> 0.9496416002511978 regioni -> 4.0\n",
      "\n",
      "slika 3 klasa Other P-> 0.9923555144241878 regioni -> 210.0\n",
      "\n"
     ]
    },
    {
     "name": "stderr",
     "output_type": "stream",
     "text": [
      "\r",
      " 67%|██████▋   | 24/36 [01:07<00:33,  2.80s/it]"
     ]
    },
    {
     "name": "stdout",
     "output_type": "stream",
     "text": [
      "\n",
      "\n",
      "slika 30 klasa Walgreens P-> 0.0 regioni -> 0.0\n",
      "\n",
      "slika 30 klasa HarrisTeeter P-> 0.0 regioni -> 0.0\n",
      "\n",
      "slika 30 klasa Publix P-> 0.9431900680065155 regioni -> 2.0\n",
      "\n",
      "slika 30 klasa HEB P-> 1.0 regioni -> 2.0\n",
      "\n",
      "slika 30 klasa Other P-> 0.9844253794713453 regioni -> 44.0\n",
      "\n"
     ]
    },
    {
     "name": "stderr",
     "output_type": "stream",
     "text": [
      "\r",
      " 69%|██████▉   | 25/36 [01:08<00:30,  2.74s/it]"
     ]
    },
    {
     "name": "stdout",
     "output_type": "stream",
     "text": [
      "\n",
      "\n",
      "slika 31 klasa StopShop P-> 0.0 regioni -> 0.0\n",
      "\n",
      "slika 31 klasa Safeway P-> 0.9999358654022217 regioni -> 1.0\n",
      "\n",
      "slika 31 klasa Publix P-> 0.8732491979996363 regioni -> 6.0\n",
      "\n",
      "slika 31 klasa Meijer P-> 1.0 regioni -> 16.0\n",
      "\n",
      "slika 31 klasa Other P-> 0.9906121207196177 regioni -> 209.0\n",
      "\n"
     ]
    },
    {
     "name": "stderr",
     "output_type": "stream",
     "text": [
      "\r",
      " 72%|███████▏  | 26/36 [01:11<00:27,  2.75s/it]"
     ]
    },
    {
     "name": "stdout",
     "output_type": "stream",
     "text": [
      "\n",
      "\n",
      "slika 32 klasa Albertsons P-> 0.0 regioni -> 0.0\n",
      "\n",
      "slika 32 klasa StopShop P-> 0.0 regioni -> 0.0\n",
      "\n",
      "slika 32 klasa Frys P-> 0.0 regioni -> 0.0\n",
      "\n",
      "slika 32 klasa HarrisTeeter P-> 0.9583921134471893 regioni -> 2.0\n",
      "\n",
      "slika 32 klasa Other P-> 0.9956892718348587 regioni -> 57.0\n",
      "\n"
     ]
    },
    {
     "name": "stderr",
     "output_type": "stream",
     "text": [
      "\r",
      " 75%|███████▌  | 27/36 [01:12<00:24,  2.70s/it]"
     ]
    },
    {
     "name": "stdout",
     "output_type": "stream",
     "text": [
      "\n",
      "\n",
      "slika 33 klasa Publix P-> 0.5931011736392975 regioni -> 2.0\n",
      "\n",
      "slika 33 klasa WinCoFoods P-> 0.8032848238945007 regioni -> 2.0\n",
      "\n",
      "slika 33 klasa Walmart P-> 0.994890570640564 regioni -> 3.0\n",
      "\n",
      "slika 33 klasa Costco P-> 0.7008475139737129 regioni -> 4.0\n",
      "\n",
      "slika 33 klasa Other P-> 0.9888157350065462 regioni -> 223.0\n",
      "\n"
     ]
    },
    {
     "name": "stderr",
     "output_type": "stream",
     "text": [
      "\r",
      " 78%|███████▊  | 28/36 [01:16<00:21,  2.74s/it]"
     ]
    },
    {
     "name": "stdout",
     "output_type": "stream",
     "text": [
      "\n",
      "\n",
      "slika 34 klasa Smiths P-> 0.47716107964515686 regioni -> 1.0\n",
      "\n",
      "slika 34 klasa Walmart P-> 0.4241804927587509 regioni -> 2.0\n",
      "\n",
      "slika 34 klasa Publix P-> 0.9939768612384796 regioni -> 2.0\n",
      "\n",
      "slika 34 klasa CVSPharmacy P-> 0.9641209493080775 regioni -> 12.0\n",
      "\n",
      "slika 34 klasa Other P-> 0.9756744400314663 regioni -> 92.0\n",
      "\n"
     ]
    },
    {
     "name": "stderr",
     "output_type": "stream",
     "text": [
      "\r",
      " 81%|████████  | 29/36 [01:18<00:19,  2.72s/it]"
     ]
    },
    {
     "name": "stdout",
     "output_type": "stream",
     "text": [
      "\n",
      "\n",
      "slika 35 klasa BJs P-> 0.870662271976471 regioni -> 3.0\n",
      "\n",
      "slika 35 klasa HEB P-> 0.9981037080287933 regioni -> 4.0\n",
      "\n",
      "slika 35 klasa Safeway P-> 0.889965777595838 regioni -> 6.0\n",
      "\n",
      "slika 35 klasa ShopRite P-> 0.9697204310643045 regioni -> 38.0\n",
      "\n",
      "slika 35 klasa Other P-> 0.974997310174836 regioni -> 171.0\n",
      "\n"
     ]
    },
    {
     "name": "stderr",
     "output_type": "stream",
     "text": [
      "\r",
      " 83%|████████▎ | 30/36 [01:22<00:16,  2.75s/it]"
     ]
    },
    {
     "name": "stdout",
     "output_type": "stream",
     "text": [
      "\n",
      "\n",
      "slika 4 klasa SamsClub P-> 0.9999924302101135 regioni -> 4.0\n",
      "\n",
      "slika 4 klasa Publix P-> 0.8870981335639954 regioni -> 6.0\n",
      "\n",
      "slika 4 klasa Albertsons P-> 0.993037482102712 regioni -> 6.0\n",
      "\n",
      "slika 4 klasa ShopRite P-> 0.9780466088226863 regioni -> 28.0\n",
      "\n",
      "slika 4 klasa Other P-> 0.9553795998980259 regioni -> 116.0\n",
      "\n"
     ]
    },
    {
     "name": "stderr",
     "output_type": "stream",
     "text": [
      "\r",
      " 86%|████████▌ | 31/36 [01:25<00:13,  2.74s/it]"
     ]
    },
    {
     "name": "stdout",
     "output_type": "stream",
     "text": [
      "\n",
      "\n",
      "slika 5 klasa JewelOsco P-> 0.4437892287969589 regioni -> 2.0\n",
      "\n",
      "slika 5 klasa StopShop P-> 0.5506979525089264 regioni -> 3.0\n",
      "\n",
      "slika 5 klasa Publix P-> 0.828711062669754 regioni -> 4.0\n",
      "\n",
      "slika 5 klasa Walgreens P-> 1.0 regioni -> 18.0\n",
      "\n",
      "slika 5 klasa Other P-> 0.9783452658076265 regioni -> 219.0\n",
      "\n"
     ]
    },
    {
     "name": "stderr",
     "output_type": "stream",
     "text": [
      "\r",
      " 89%|████████▉ | 32/36 [01:28<00:11,  2.77s/it]"
     ]
    },
    {
     "name": "stdout",
     "output_type": "stream",
     "text": [
      "\n",
      "\n",
      "slika 6 klasa Albertsons P-> 0.0 regioni -> 0.0\n",
      "\n",
      "slika 6 klasa WinCoFoods P-> 0.0 regioni -> 0.0\n",
      "\n",
      "slika 6 klasa CVSPharmacy P-> 0.9599803686141968 regioni -> 1.0\n",
      "\n",
      "slika 6 klasa HarrisTeeter P-> 0.9442889988422394 regioni -> 4.0\n",
      "\n",
      "slika 6 klasa Other P-> 0.9896373472715679 regioni -> 95.0\n",
      "\n"
     ]
    },
    {
     "name": "stderr",
     "output_type": "stream",
     "text": [
      "\r",
      " 92%|█████████▏| 33/36 [01:30<00:08,  2.73s/it]"
     ]
    },
    {
     "name": "stdout",
     "output_type": "stream",
     "text": [
      "\n",
      "\n",
      "slika 7 klasa Smiths P-> 0.5233048796653748 regioni -> 1.0\n",
      "\n",
      "slika 7 klasa Walmart P-> 0.9998055100440979 regioni -> 1.0\n",
      "\n",
      "slika 7 klasa Publix P-> 0.9999257127443949 regioni -> 3.0\n",
      "\n",
      "slika 7 klasa Safeway P-> 0.8618194311857224 regioni -> 6.0\n",
      "\n",
      "slika 7 klasa Other P-> 0.977956542908896 regioni -> 239.0\n",
      "\n"
     ]
    },
    {
     "name": "stderr",
     "output_type": "stream",
     "text": [
      "\r",
      " 94%|█████████▍| 34/36 [01:33<00:05,  2.76s/it]"
     ]
    },
    {
     "name": "stdout",
     "output_type": "stream",
     "text": [
      "\n",
      "\n",
      "slika 8 klasa StopShop P-> 1.0 regioni -> 1.0\n",
      "\n",
      "slika 8 klasa Walmart P-> 0.7161283791065216 regioni -> 2.0\n",
      "\n",
      "slika 8 klasa HarrisTeeter P-> 0.5689232448736826 regioni -> 3.0\n",
      "\n",
      "slika 8 klasa Safeway P-> 0.9998861476778984 regioni -> 16.0\n",
      "\n",
      "slika 8 klasa Other P-> 0.9683399611228222 regioni -> 74.0\n",
      "\n"
     ]
    },
    {
     "name": "stderr",
     "output_type": "stream",
     "text": [
      "\r",
      " 97%|█████████▋| 35/36 [01:35<00:02,  2.73s/it]"
     ]
    },
    {
     "name": "stdout",
     "output_type": "stream",
     "text": [
      "\n",
      "\n",
      "slika 9 klasa Albertsons P-> 0.0 regioni -> 0.0\n",
      "\n",
      "slika 9 klasa Frys P-> 0.0 regioni -> 0.0\n",
      "\n",
      "slika 9 klasa Publix P-> 0.9909606575965881 regioni -> 1.0\n",
      "\n",
      "slika 9 klasa Smiths P-> 0.9425205290317535 regioni -> 12.0\n",
      "\n",
      "slika 9 klasa Other P-> 0.9679383248397985 regioni -> 97.0\n",
      "\n"
     ]
    },
    {
     "name": "stderr",
     "output_type": "stream",
     "text": [
      "100%|██████████| 36/36 [01:37<00:00,  2.71s/it]\n"
     ]
    },
    {
     "name": "stdout",
     "output_type": "stream",
     "text": [
      "0: Smiths\n",
      "1: Target\n",
      "2: WholeFoodsMarket\n",
      "3: Smiths\n",
      "4: ShopRite\n",
      "5: Walgreens\n",
      "6: HarrisTeeter\n",
      "7: Other\n",
      "8: Safeway\n",
      "9: Smiths\n",
      "10: SamsClub\n",
      "11: Other\n",
      "12: Other\n",
      "13: Other\n",
      "14: KingSoopers\n",
      "15: Other\n",
      "16: KingSoopers\n",
      "17: Other\n",
      "18: Other\n",
      "19: HEB\n",
      "20: Other\n",
      "21: Other\n",
      "22: CVSPharmacy\n",
      "23: Other\n",
      "24: Other\n",
      "25: Other\n",
      "26: CVSPharmacy\n",
      "27: Other\n",
      "28: Safeway\n",
      "29: Other\n",
      "30: HEB\n",
      "31: Meijer\n",
      "32: Other\n",
      "33: Other\n",
      "34: CVSPharmacy\n",
      "35: ShopRite\n"
     ]
    }
   ],
   # Evaluator+PrikazTop5Guess
   "source": [
    "from __future__ import division, print_function, absolute_import\n",
    "import tflearn \n",
    "from tflearn.layers.core import input_data, dropout, fully_connected\n",
    "from tflearn.layers.conv import conv_2d, max_pool_2d, avg_pool_2d\n",
    "from tflearn.layers.normalization import local_response_normalization\n",
    "from tflearn.layers.estimator import regression\n",
    "\n",
    "from tqdm import tqdm\n",
    "import os\n",
    "import json\n",
    "import numpy as np\n",
    "from random import shuffle\n",
    "import cv2 \n",
    "import shutil\n",
    "import csv\n",
    "import time\n",
    "import random\n",
    "\n",
    "\n",
    "topk=5\n",
    "\n",
    "MODELNAME = \"other30-06_mriza_best9807\"\n",
    "\n",
    "\n",
    "SOURCEIMG = \"C:/Users/User/Desktop/KODOVI_MOZGALO/MacLearnImg/ResIMG/\"\n",
    "\n",
    "\n",
    "LR = 0.001\n",
    "IMGSIZE1 = 60\n",
    "IMGSIZE2 = 40\n",
    "\n",
    "#Get labels for our logos \n",
    "def getLabels():\n",
    "    with open('imgLabels.json') as f:\n",
    "        return json.load(f)\n",
    "\n",
    "\n",
    "#Loada keyeve\n",
    "def getMyKeys():\n",
    "    with open('claskey.json') as f:\n",
    "        return json.load(f)\n",
    "\n",
    "#loada omjere za klase tj koliko je puta selective search predložio groundtruth/ukupni broj prijedloga\n",
    "def getClassOmjer():\n",
    "    with open('omjerclass.json') as f:\n",
    "        return json.load(f)\n",
    "\n",
    "if __name__ == \"__main__\":\n",
    "\n",
    "    labels = getLabels()    \n",
    "    #ovdje je slozeno po tipu \"redniBroj\": \"ImeKlase\" sluzi da kasnije otkrijemo kojoj klasi pripada najveca vrijednsot iz tezinskog vektora\n",
    "    myKeys = getMyKeys()    \n",
    "    #ovdje cemo sloziti dictionary po \"imeklase\" : broj ponavljanja u nekoj slici kasnije za svaki region proposal racunamo kojoj klasi pripada.\n",
    "    tempRes = {}\n",
    "    #ovdje slazemo navedeni dictionary\n",
    "    for key in myKeys.keys():\n",
    "        tempRes.update({myKeys[key]: 0})\n",
    "    #malo optimizacije\n",
    "    cv2.setUseOptimized(True)\n",
    "    cv2.setNumThreads(8)    \n",
    "    #preloadanje training seta iz fiknsog filea. sadrži malo manje od pola milijona slika\n",
    "    print(\"\\n\\n\")\n",
    "    print(\"Starting with convnet. Fingers crossed\\n\")\n",
    "    #network = tflearn.input_data(shape=[None, IMGSIZE1, IMGSIZE2, 1], data_augmentation=img_aug, name ='input')\n",
    "    \n",
    "    network = input_data(shape=[None, IMGSIZE1, IMGSIZE2, 1], name='input')\n",
    "    network = conv_2d(network, 50, 5, activation='relu')\n",
    "    network = max_pool_2d(network, 2)\n",
    "    #Normalization purposed to speed up training process\n",
    "    network = local_response_normalization(network)\n",
    "    network = conv_2d(network, 50, 5, activation='relu')\n",
    "    network = avg_pool_2d(network, 2)\n",
    "    network = local_response_normalization(network)\n",
    "    network = conv_2d(network, 100, 5, activation='relu')\n",
    "    network = avg_pool_2d(network, 2)\n",
    "    #network = local_response_normalization(network)\n",
    "    \n",
    "    network = fully_connected(network, 1000, activation='relu')\n",
    "    network = fully_connected(network, 1000, activation='relu')\n",
    "    network = fully_connected(network, 200, activation='relu')\n",
    "    network = fully_connected(network, 26, activation='softmax')\n",
    "    network = regression(network, optimizer='adam', learning_rate=LR,\n",
    "                        loss='categorical_crossentropy', name='targets')\n",
    "\n",
    "    \n",
    "    model = tflearn.DNN(network, tensorboard_dir='log' + MODELNAME)\n",
    "\n",
    "    if os.path.exists(\"{}.meta\".format(MODELNAME)):\n",
    "        model.load(MODELNAME)\n",
    "        print(\"Model Loaded\")\n",
    "    \n",
    "    \n",
    "    \n",
    "    #testne slike bi trebale biti spremljene u odgovarajuci SOURCEIMG kako je navedeno gore u originalnom formatu.\n",
    "    testImages =  [img for img in os.listdir(SOURCEIMG)]\n",
    "    #testImages=[]\n",
    "    #u results spremamo zavrne podatke. broj slike : klasa kojoj je model odlucio da pripada.\n",
    "    results = {}\n",
    "    #myMax = 0\n",
    "    Height=400\n",
    "    Width=220\n",
    "    lista=[]\n",
    "    temporaryResults = tempRes\n",
    "    indexslike=0\n",
    "    #prolazim po slikama\n",
    "    for img in tqdm(testImages): \n",
    "        \n",
    "        index = img.split('.')[0]\n",
    "      \n",
    "        intindex=int(index)\n",
    "\n",
    "        for key in myKeys.keys(): \n",
    "            temporaryResults[myKeys[key]]=0\n",
    " \n",
    "        try:\n",
    "            im = cv2.imread(SOURCEIMG +img)\n",
    "            im = cv2.resize(im, (Width, Height))\n",
    "            ss = cv2.ximgproc.segmentation.createSelectiveSearchSegmentation()\n",
    "            ss.setBaseImage(im)\n",
    "    \n",
    "            #ss.switchToSingleStrategy()\n",
    "            ss.switchToSelectiveSearchFast()\n",
    "                # run selective search segmentation on input image\n",
    "                \n",
    "            #funkcija vrati array sa koordinatama rectangleova [x1 y1 w h] w->sirina h->visina dakle x1 y1 x1+w y1+h so koord od recta\n",
    "            rects = ss.process()\n",
    "            threshold_rects=[]\n",
    "    \n",
    "                #cuva samo rectangle takve da je povrsina >= povrsinaslike/100\n",
    "            for i,rect in enumerate(rects):\n",
    "                x, y, w, h = rect\n",
    "                \n",
    "                if (w>(2*h/3) and w*h<Height*Width/15 and w*h>Height*Width/270): \n",
    "                #if (w*h >= Height*Width/100):\n",
    "                    threshold_rects.append(rect)\n",
    "            \n",
    "            n_proposala=int(len(threshold_rects))\n",
    "            max_ind=np.zeros(shape=(n_proposala, 2))\n",
    "            sume = np.zeros(shape=(26, 2))\n",
    "            average = np.zeros(shape=(26, 1))\n",
    "            imOut = im.copy()\n",
    "            for i,rect in enumerate(threshold_rects):\n",
    "                x ,y, w, h = rect\n",
    "                    #funkciji bb_intersection_over_union moras dati gornji lijevi i donji desni pa to izvuci iz Logopoza \n",
    "                img_prop = imOut[y:y+h, x:x+w]\n",
    "                proposal = cv2.resize(img_prop,(IMGSIZE1, IMGSIZE2))\n",
    "                proposal = cv2.cvtColor(proposal, cv2.COLOR_BGR2GRAY)\n",
    "\n",
    "                img_data=np.array(proposal)\n",
    "                orig = img_data\n",
    "                data = img_data.reshape(-1, IMGSIZE1, IMGSIZE2, 1)\n",
    "                model_out = model.predict(data)[0]\n",
    "                maximum=max(model_out)\n",
    "                myInd = str(np.where(model_out==maximum)[0][0])\n",
    "                max_ind[i][0]=maximum\n",
    "                max_ind[i][1]=myInd\n",
    "            \n",
    "                #temporaryResults[myKeys[myInd]] = temporaryResults[myKeys[myInd]] + 1\n",
    "                \n",
    "            \n",
    "            for i in range(0, n_proposala):\n",
    "                sume[int(max_ind[i][1])][0] = max_ind[i][0]+sume[int(max_ind[i][1])][0]\n",
    "                sume[int(max_ind[i][1])][1] = sume[int(max_ind[i][1])][1]+ 1\n",
    "            for i in range(0, 26):\n",
    "                if(sume[i][1] > 0):\n",
    "                   average[i][0]=np.divide(sume[i][0], sume[i][1])   \n",
    "                   \n",
    "            ind = np.argpartition(sume[:,1], -topk)[-topk:]\n",
    "            ind = ind[average[ind,0].argsort()]\n",
    "            ind = ind[sume[ind,1].argsort()]\n",
    "            #ind[np.argsort(average[ind][0])]\n",
    "            #print(ind[0])\n",
    "            \n",
    "            print(\"\\n\")\n",
    "            for n in range(0,topk):\n",
    "                print(\"slika \" + str(intindex) + \" klasa \" + str(myKeys[str(ind[n])]) + \" P-> \" + str(average[ind[n]][0]) + \" regioni -> \" + str(sume[ind[n]][1]) + \"\\n\")\n",
    "\n",
    "           \n",
    "            if sume[ind[0]][1]==0:\n",
    "                if sume[ind[topk-2]][1]==0 or sume[ind[topk-2]][1]==1:\n",
    "                    results.update({intindex : \"Other\"})\n",
    "                elif sume[ind[topk-2]][1]==2:\n",
    "                    if average[ind[topk-2]][0]>0.985:\n",
    "                        results.update({intindex : myKeys[str(ind[topk-2])]})\n",
    "                    else:\n",
    "                        results.update({intindex : \"Other\"})\n",
    "                elif sume[ind[topk-2]][1]==3:\n",
    "                    if average[ind[topk-2]][0]>0.87:\n",
    "                        results.update({intindex : myKeys[str(ind[topk-2])]})\n",
    "                    else:\n",
    "                        results.update({intindex : \"Other\"})\n",
    "                elif sume[ind[topk-2]][1]==4:\n",
    "                    if average[ind[topk-2]][0]>0.85:\n",
    "                        results.update({intindex : myKeys[str(ind[topk-2])]})\n",
    "                    else:\n",
    "                        results.update({intindex : \"Other\"})\n",
    "                elif sume[ind[topk-2]][1]==5:\n",
    "                    if average[ind[topk-2]][0]>0.8:\n",
    "                        results.update({intindex : myKeys[str(ind[topk-2])]})\n",
    "                    else:\n",
    "                        results.update({intindex : \"Other\"})\n",
    "                elif sume[ind[topk-2]][1]==6:\n",
    "                    if average[ind[topk-2]][0]>0.75:\n",
    "                        results.update({intindex : myKeys[str(ind[topk-2])]})\n",
    "                    else:\n",
    "                        results.update({intindex : \"Other\"})\n",
    "                elif sume[ind[topk-2]][1]==7:\n",
    "                    if average[ind[topk-2]][0]>0.7:\n",
    "                        results.update({intindex : myKeys[str(ind[topk-2])]})\n",
    "                    else:\n",
    "                        results.update({intindex : \"Other\"})\n",
    "                elif sume[ind[topk-2]][1]==8:\n",
    "                    if average[ind[topk-2]][0]>0.7:\n",
    "                        results.update({intindex : myKeys[str(ind[topk-2])]})\n",
    "                    else:\n",
    "                        results.update({intindex : \"Other\"})\n",
    "                elif sume[ind[topk-2]][1]>8:\n",
    "                    if average[ind[topk-2]][0]>0.7:\n",
    "                        results.update({intindex : myKeys[str(ind[topk-2])]})\n",
    "                    else:\n",
    "                        results.update({intindex : \"Other\"})\n",
    "            else:\n",
    "                if sume[ind[topk-2]][1]==0 or sume[ind[topk-2]][1]==1:\n",
    "                    results.update({intindex : \"Other\"})\n",
    "                elif sume[ind[topk-2]][1]==2:\n",
    "                    if average[ind[topk-2]][0]>0.999:\n",
    "                        results.update({intindex : myKeys[str(ind[topk-2])]})\n",
    "                    else:\n",
    "                        results.update({intindex : \"Other\"})\n",
    "                elif sume[ind[topk-2]][1]==3:\n",
    "                    if average[ind[topk-2]][0]>0.99:\n",
    "                        results.update({intindex : myKeys[str(ind[topk-2])]})\n",
    "                    else:\n",
    "                        results.update({intindex : \"Other\"})\n",
    "                elif sume[ind[topk-2]][1]==4:\n",
    "                    if average[ind[topk-2]][0]>0.98:\n",
    "                        results.update({intindex : myKeys[str(ind[topk-2])]})\n",
    "                    else:\n",
    "                        results.update({intindex : \"Other\"})\n",
    "                elif sume[ind[topk-2]][1]==5:\n",
    "                    if average[ind[topk-2]][0]>0.975:\n",
    "                        results.update({intindex : myKeys[str(ind[topk-2])]})\n",
    "                    else:\n",
    "                        results.update({intindex : \"Other\"})\n",
    "                elif sume[ind[topk-2]][1]==6:\n",
    "                    if average[ind[topk-2]][0]>0.94:\n",
    "                        results.update({intindex : myKeys[str(ind[topk-2])]})\n",
    "                    else:\n",
    "                        results.update({intindex : \"Other\"})\n",
    "                elif sume[ind[topk-2]][1]==7:\n",
    "                    if average[ind[topk-2]][0]>0.885: #nesigurni\n",
    "                        results.update({intindex : myKeys[str(ind[topk-2])]})\n",
    "                    else:\n",
    "                        results.update({intindex : \"Other\"})\n",
    "                elif sume[ind[topk-2]][1]==8:\n",
    "                    if average[ind[topk-2]][0]>0.86: #nesigurni\n",
    "                        results.update({intindex : myKeys[str(ind[topk-2])]})\n",
    "                    else:\n",
    "                        results.update({intindex : \"Other\"})\n",
    "                elif sume[ind[topk-2]][1]==9:\n",
    "                    if average[ind[topk-2]][0]>0.75:\n",
    "                        results.update({intindex : myKeys[str(ind[topk-2])]})\n",
    "                    else:\n",
    "                        results.update({intindex : \"Other\"})\n",
    "                elif sume[ind[topk-2]][1]>9:\n",
    "                    if average[ind[topk-2]][0]>0.7:\n",
    "                        results.update({intindex : myKeys[str(ind[topk-2])]})\n",
    "                    else:\n",
    "                        results.update({intindex : \"Other\"})\n",
    "            \n",
    "\n",
    "        except:\n",
    "            print(\"U exceptu\\n\")\n",
    "            results.update({intindex: \"Other\"})\n",
    "            indexslike = indexslike +1\n",
    "    \n",
    "    #ovo prvo ispod dobro zapise u datoteku rezultate\n",
    "    '''\n",
    "    with open('resultsAverage26.csv', 'w',newline='') as csv_file:\n",
    "        writer = csv.writer(csv_file)    \n",
    "        for key in sorted(results):\n",
    "            writer.writerow([results[key]])\n",
    "    '''\n",
    "    for key in sorted(results):\n",
    "        print (\"%s: %s\" % (key, results[key]))\n",
    "\n",
    "\n",
    "\n",
    "\n"
   ]
  }
 ],
 "metadata": {
  "kernelspec": {
   "display_name": "Python 3",
   "language": "python",
   "name": "python3"
  },
  "language_info": {
   "codemirror_mode": {
    "name": "ipython",
    "version": 3
   },
   "file_extension": ".py",
   "mimetype": "text/x-python",
   "name": "python",
   "nbconvert_exporter": "python",
   "pygments_lexer": "ipython3",
   "version": "3.6.4"
  }
 },
 "nbformat": 4,
 "nbformat_minor": 2
}
