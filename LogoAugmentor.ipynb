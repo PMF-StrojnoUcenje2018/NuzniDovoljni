{
 "cells": [
  {
   "cell_type": "markdown",
   "metadata": {},
   "source": [
    "# Logo Augmentor\n",
    "\n",
    "Koristili smo modul Augmentor kako bi napravili augmentacije slika na kojima se nalaze logoi i na taj način dijelom umjetno proširili naš training skup"
   ]
  },
  {
   "cell_type": "code",
   "execution_count": null,
   "metadata": {},
   "outputs": [],
   "source": [
    "import cv2\n",
    "import os\n",
    "import sys\n",
    "import Augmentor as aug\n",
    "\n",
    "#AUGMENTED = '/home/bosnmar/MachineLearning/Production/AugLogo/'\n",
    "FINALLOGO = '/home/bosnmar/MachineLearning/Production/SelectiveLogo/'\n",
    "\n",
    "AUGMENTED = '/home/bosnmar/MachineLearning/Production/TrainingSet/FINAL_TRAINING/AugmentedLogos/'\n",
    "\n",
    "\n",
    "\n",
    "\n",
    "if __name__ == \"__main__\":\n",
    "\n",
    "    i = 0\n",
    "    logclas = [logo for logo in os.listdir(FINALLOGO)]\n",
    "\n",
    "    for log in logclas:\n",
    "        if not os.path.exists(AUGMENTED + log):\n",
    "            os.makedirs(AUGMENTED + log)\n",
    "    \n",
    "    for log in logclas:\n",
    "        p = aug.Pipeline(FINALLOGO + log +\"/\")\n",
    "        p.rotate(probability=0.7, max_left_rotation=10, max_right_rotation=10)\n",
    "        p.zoom(probability=0.7, min_factor = 1.1, max_factor = 1.5)\n",
    "        p.random_distortion(probability=0.6, grid_width=4, grid_height=4, magnitude=8)\n",
    "        p.flip_left_right(probability=0.1)\n",
    "        p.flip_top_bottom(probability=0.1)\n",
    "        p.sample(3000, multi_threaded=True)\n",
    "    \n",
    "    for log in logclas:\n",
    "        images = os.listdir(FINALLOGO + log + \"/output/\")\n",
    "        for img in images:\n",
    "            if not os.path.exists(os.path.join(AUGMENTED + log, img)):\n",
    "                i = i+1\n",
    "                temp = img[img.index('jpg_')+4:]\n",
    "                image = cv2.imread(FINALLOGO + log + \"/output/\" + img,0)\n",
    "                resize = cv2.resize(image, (32, 32))\n",
    "                cv2.imwrite(AUGMENTED + log + \"/\" + temp, resize)\n",
    "\n",
    "                if (i%500 == 0):\n",
    "                    print(\"Got through {} pictures\".format(i))\n",
    "            else:\n",
    "                pass\n",
    "            \n",
    "\n",
    "    \n",
    "\n",
    "\n",
    "\n"
   ]
  }
 ],
 "metadata": {
  "kernelspec": {
   "display_name": "Python 3",
   "language": "python",
   "name": "python3"
  },
  "language_info": {
   "codemirror_mode": {
    "name": "ipython",
    "version": 3
   },
   "file_extension": ".py",
   "mimetype": "text/x-python",
   "name": "python",
   "nbconvert_exporter": "python",
   "pygments_lexer": "ipython3",
   "version": "3.6.5"
  }
 },
 "nbformat": 4,
 "nbformat_minor": 2
}
